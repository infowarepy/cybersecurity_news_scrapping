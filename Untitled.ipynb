{
 "cells": [
  {
   "cell_type": "code",
   "execution_count": 1,
   "id": "1d69fa1b",
   "metadata": {},
   "outputs": [],
   "source": [
    "import requests"
   ]
  },
  {
   "cell_type": "code",
   "execution_count": 9,
   "id": "6c2737d0",
   "metadata": {},
   "outputs": [],
   "source": [
    "url='https://api.worldnewsapi.com/search-news?source-countries=de&entities=LOC:Italy&x-api-key=4bee7e1bbbe74797ac873c5d83d078a0'\n",
    "res=requests.get(url)\n",
    "json=res.json()"
   ]
  },
  {
   "cell_type": "code",
   "execution_count": 10,
   "id": "3ad7e063",
   "metadata": {},
   "outputs": [
    {
     "data": {
      "text/plain": [
       "{'status': 'failure',\n",
       " 'code': 401,\n",
       " 'message': 'You are not authorized. Please read https://worldnewsapi.com/docs/#Authentication'}"
      ]
     },
     "execution_count": 10,
     "metadata": {},
     "output_type": "execute_result"
    }
   ],
   "source": [
    "json"
   ]
  },
  {
   "cell_type": "code",
   "execution_count": null,
   "id": "65eb41fa",
   "metadata": {},
   "outputs": [],
   "source": []
  },
  {
   "cell_type": "code",
   "execution_count": null,
   "id": "354dccfa",
   "metadata": {},
   "outputs": [],
   "source": []
  },
  {
   "cell_type": "code",
   "execution_count": null,
   "id": "40fb25a7",
   "metadata": {},
   "outputs": [],
   "source": []
  },
  {
   "cell_type": "code",
   "execution_count": null,
   "id": "54e679b0",
   "metadata": {},
   "outputs": [],
   "source": []
  },
  {
   "cell_type": "code",
   "execution_count": null,
   "id": "08fdbc7c",
   "metadata": {},
   "outputs": [],
   "source": []
  },
  {
   "cell_type": "code",
   "execution_count": null,
   "id": "2c806570",
   "metadata": {},
   "outputs": [],
   "source": []
  },
  {
   "cell_type": "code",
   "execution_count": null,
   "id": "0eee3b30",
   "metadata": {},
   "outputs": [],
   "source": []
  },
  {
   "cell_type": "code",
   "execution_count": null,
   "id": "87c01466",
   "metadata": {},
   "outputs": [],
   "source": []
  },
  {
   "cell_type": "code",
   "execution_count": 1,
   "id": "c40a6e97",
   "metadata": {},
   "outputs": [],
   "source": [
    "import json\n",
    "from app import *\n",
    "from utils import *\n",
    "from selenium import webdriver\n",
    "from selenium.webdriver.chrome.service import Service\n",
    "from selenium.webdriver.common.by import By\n",
    "from selenium.webdriver.support import expected_conditions as EC\n",
    "from selenium.webdriver.support.ui import WebDriverWait\n",
    "from webdriver_manager.chrome import ChromeDriverManager\n",
    "import math\n",
    "import time\n",
    "import numpy as np"
   ]
  },
  {
   "cell_type": "code",
   "execution_count": 2,
   "id": "b66a7e60",
   "metadata": {},
   "outputs": [],
   "source": [
    "file=open('static/country_code.json','r')\n",
    "country_code=json.load(file)"
   ]
  },
  {
   "cell_type": "code",
   "execution_count": 3,
   "id": "888d9f44",
   "metadata": {},
   "outputs": [],
   "source": [
    "file=open('static/country_codes.json','r')\n",
    "country_code=json.load(file)\n",
    "\n",
    "regulator=pd.read_excel('REGULATORS (3).xlsx')\n",
    "regulator.replace('NULL', np.nan, inplace=True)"
   ]
  },
  {
   "cell_type": "code",
   "execution_count": 4,
   "id": "3ee7b0d7",
   "metadata": {},
   "outputs": [
    {
     "data": {
      "text/plain": [
       "True"
      ]
     },
     "execution_count": 4,
     "metadata": {},
     "output_type": "execute_result"
    }
   ],
   "source": [
    "country_code['India'] in regulator['COUNTRY_CODE'].to_list()"
   ]
  },
  {
   "cell_type": "code",
   "execution_count": 20,
   "id": "0dc15e12",
   "metadata": {},
   "outputs": [
    {
     "data": {
      "text/plain": [
       "['https://www.ibbi.gov.in/',\n",
       " 'https://www.irdai.gov.in/',\n",
       " 'https://www.pfrda.org.in/',\n",
       " 'https://www.rbi.org.in/',\n",
       " 'https://www.sebi.gov.in/']"
      ]
     },
     "execution_count": 20,
     "metadata": {},
     "output_type": "execute_result"
    }
   ],
   "source": [
    "filtered_data = regulator[regulator['COUNTRY_CODE'] == country_code['India']]\n",
    "links=[]\n",
    "for regulator_name in filtered_data['REGULATOR_NAME']:\n",
    "    url = filtered_data.loc[filtered_data['REGULATOR_NAME'] == regulator_name, 'REGULATOR_WEB_URL'].values\n",
    "    if len(url) > 0 and str(url[0])!='nan':\n",
    "        links.append(url[0])\n",
    "    \n",
    "links\n",
    "        \n",
    "    \n",
    "        \n"
   ]
  },
  {
   "cell_type": "code",
   "execution_count": null,
   "id": "b5060c02",
   "metadata": {},
   "outputs": [],
   "source": [
    "filtered_data[filtered_data['REGULATOR_NAME']==i]['REGULATOR_WEB_URL']"
   ]
  },
  {
   "cell_type": "code",
   "execution_count": null,
   "id": "24c9c389",
   "metadata": {},
   "outputs": [],
   "source": [
    "filtered_data"
   ]
  },
  {
   "cell_type": "code",
   "execution_count": null,
   "id": "a6dea4ca",
   "metadata": {},
   "outputs": [],
   "source": [
    "'IN' in regulator['COUNTRY_CODE'].to_list()"
   ]
  },
  {
   "cell_type": "code",
   "execution_count": null,
   "id": "d7e288f8",
   "metadata": {},
   "outputs": [],
   "source": [
    "api_links=extract_newsapi_links('Italy')"
   ]
  },
  {
   "cell_type": "code",
   "execution_count": null,
   "id": "a07ce168",
   "metadata": {},
   "outputs": [],
   "source": [
    "api_links"
   ]
  },
  {
   "cell_type": "code",
   "execution_count": null,
   "id": "0af1d85a",
   "metadata": {},
   "outputs": [],
   "source": [
    "extract_google_links('Italy')"
   ]
  },
  {
   "cell_type": "code",
   "execution_count": 11,
   "id": "2d3462f0",
   "metadata": {},
   "outputs": [],
   "source": [
    "google_links=['https://iclg.com/practice-areas/cybersecurity-laws-and-regulations/italy',\n",
    " 'https://www.usnews.com/news/technology/articles/2023-11-22/italys-privacy-regulator-looks-into-online-data-gathering-to-train-ai',\n",
    " 'https://www.reuters.com/technology/germany-france-italy-reach-agreement-future-ai-regulation-2023-11-18/',\n",
    " 'https://www.cnbc.com/2023/11/18/germany-france-and-italy-reach-agreement-on-future-ai-regulation.html',\n",
    " 'https://www.bloomberg.com/news/articles/2023-11-22/meloni-says-italy-vetoed-takeover-by-safran-over-security-risks',\n",
    " 'https://www.ncsc.gov.uk/news/uk-develops-new-global-guidelines-ai-security',\n",
    " 'https://www.defensenews.com/industry/2023/11/21/italy-blocks-safrans-purchase-of-firm-involved-in-making-eurofighters/',\n",
    " 'https://www.cshub.com/attacks/articles/biggest-cyber-security-attacks-october',\n",
    " 'https://4securitas.com/resources/articles/',\n",
    " 'https://www.crunchbase.com/hub/italy-cyber-security-companies/hub_overview_default/timeline',\n",
    " 'https://economictimes.indiatimes.com/tech/technology/explained-what-the-ai-cybersecurity-guidelines-endorsed-by-the-us-uk-and-16-other-countries-entail/articleshow/105554278.cms',\n",
    " 'https://www.commercialriskonline.com/italian-supervisor-focuses-on-cyber-awareness-among-smes-and-individuals/',\n",
    " 'https://www.dataguidance.com/news/international-germany-italy-and-france-commit',\n",
    " 'https://www.itgovernance.co.uk/blog/list-of-data-breaches-and-cyber-attacks-in-2023',\n",
    " 'https://crisis24.garda.com/alerts/2023/11/italy-unionized-rail-workers-extend-nationwide-strike-through-dec-1-update-1',\n",
    " 'https://www.iospress.com/catalog/journals/journal-of-computer-security',\n",
    " 'https://www.ncbi.nlm.nih.gov/pmc/articles/PMC10636100/',\n",
    " 'https://www.ebrd.com/news/2023/ebrd-and-italy-bolster-moldovas-private-sector-.html',\n",
    " 'https://www.darkreading.com/application-security',\n",
    " 'https://www.politico.eu/article/italy-approves-reform-boosting-prime-minister-meloni-powers/']"
   ]
  },
  {
   "cell_type": "code",
   "execution_count": null,
   "id": "49a494a3",
   "metadata": {
    "scrolled": true
   },
   "outputs": [],
   "source": [
    "get_news_links('Italy')"
   ]
  },
  {
   "cell_type": "code",
   "execution_count": 12,
   "id": "588274ca",
   "metadata": {},
   "outputs": [],
   "source": [
    "links=['https://www.bloomberg.com/news/articles/2023-11-22/meloni-says-italy-vetoed-takeover-by-safran-over-security-risks',\n",
    " 'https://www.ncsc.gov.uk/news/uk-develops-new-global-guidelines-ai-security',\n",
    " 'https://www.cshub.com/attacks/articles/biggest-cyber-security-attacks-october',\n",
    " 'https://www.commercialriskonline.com/italian-supervisor-focuses-on-cyber-awareness-among-smes-and-individuals/',\n",
    " 'https://www.itgovernance.co.uk/blog/list-of-data-breaches-and-cyber-attacks-in-2023',\n",
    " 'https://www.iospress.com/catalog/journals/journal-of-computer-security',\n",
    " 'https://www.darkreading.com/application-security']"
   ]
  },
  {
   "cell_type": "code",
   "execution_count": 13,
   "id": "607228ca",
   "metadata": {
    "scrolled": true
   },
   "outputs": [
    {
     "name": "stdout",
     "output_type": "stream",
     "text": [
      "URL for news ------------------>>>>>>>  https://www.bloomberg.com/news/articles/2023-11-22/meloni-says-italy-vetoed-takeover-by-safran-over-security-risks\n",
      "sublink list : 237\n",
      "extension name :  ['.it', '.eu', '.gov', '.org']\n",
      "length >>> 1\n",
      "c_ex>>>>> ['.it']\n",
      "sublinks after filter >>>>>>>>>>>>>>>  ['https://www.bloomberg.com/politics?source=eyebrow', 'https://bba.bloomberg.net/?utm_source=bloomberg-menu&utm_medium=bcom', 'https://www.bloomberg.com/news/articles/2023-12-04/korea-battery-stocks-gain-on-us-rules-to-limit-chinese-materials', 'https://www.bloomberg.com/citylab/justice', 'https://www.bloomberg.com/markets/sectors', 'https://www.bloomberg.com/news/articles/2023-12-04/white-house-warns-congress-nearly-out-of-time-on-ukraine-funds', 'https://www.bloomberg.com/uk', 'https://www.bloomberg.com/tips/', 'https://www.bloomberg.com/opinion-politics-and-policy', 'https://www.bloomberg.com/news/features/2023-12-02/the-design-history-of-seoul-s-apatu-danji-apartment-complexes', 'https://www.bloomberg.com/citylab/economy', 'https://www.bloomberg.com/technology/ai', 'https://www.bloomberg.com/asia-politics', 'https://www.bloomberg.com/businessweek', 'https://www.bloomberg.com/business-schools/', 'https://nytech.org/made', 'https://www.bloomberg.com/africa', 'https://www.bloomberg.com/europe', 'https://www.bloomberg.com/green', 'https://www.bloomberg.com/uk-politics', 'https://www.bloomberg.com/company/news-bureaus/?utm_source=bloomberg-menu&utm_medium=bcom', 'https://www.bloomberg.com/opinion', 'https://www.bloomberg.com/news/articles/2023-12-01/judy-chicago-theaster-gates-talk-imagination-at-work-on-the-businessweek-show', 'https://www.bloomberg.com/news/articles/2023-12-02/central-bank-digital-currency-cbdc-uk-parliament-questions-digital-pound', 'https://www.bloomberg.com/careers/?utm_source=dotcom&utm_medium=footer', 'https://www.bloomberg.com/authors/ASB62QVt-d0/the-editors', 'https://www.bloomberg.com/markets/stocks', 'https://www.bloomberg.com/industries', 'https://www.bloomberg.com/news/articles/2023-12-04/europe-faces-freezing-week-as-snow-and-ice-delay-flights', 'https://www.bloomberg.com/news/articles/2023-12-04/uk-morgage-borrowers-face-highest-inflation-rate-ons-says', 'https://www.bloomberg.com/industries/entertainment', 'https://www.bloomberg.com/portal/saved?in_source=navi', 'https://www.bloomberg.com/economics/indicators', 'https://www.bloomberg.com/news/articles/2023-12-03/brooklyn-s-crypto-hipster-hotspot-gears-up-for-an-nft-rebound', 'https://www.bloomberg.com/americas-politics', 'https://www.bloomberg.com/pursuits/style', 'https://pro.bloombergtax.com/?utm_source=bloomberg-menu&utm_medium=bcom', 'https://www.bloomberg.com/company/beta/?utm_source=bloomberg-menu&utm_medium=bcom', 'https://apps.apple.com/us/app/bloomberg-business-news/id281941097', 'https://www.bloomberg.com/wealth/living', 'https://www.bloomberg.com/live', 'https://www.bloomberg.com/opinion-economics', 'https://pro.bloombergenvironment.com/?utm_source=bloomberg-menu&utm_medium=bcom', 'https://www.bloomberg.com/portal/account?in_source=navi', 'https://www.bloomberg.com/news/articles/2023-12-04/how-us-venezuela-reached-a-deal-toward-fair-elections-2024', 'https://www.bloomberg.com/wealth/savings-and-retirement', 'https://www.bloomberg.com/news/features/2023-12-01/lampedusa-migrant-island-welcomes-the-unwanted-crossing-the-mediterranean', 'https://www.bloomberg.com/economics', 'https://www.bloomberg.com/features/2022-bloomberg-50/', 'https://www.bloomberg.com/fx-center', 'https://www.bloomberg.com/next-china', 'https://www.bloomberg.com/company/?utm_source=bloomberg-menu&utm_medium=bcom', 'https://www.bloomberg.com/features/companies-to-watch-2022', 'https://www.bloomberg.com/authors/ARMk-C2OJK8/arne-delfs', 'https://www.bloomberg.com/pursuits/real-estate', 'https://www.bloomberg.com/news/articles/2023-12-01/startup-syrup-raises-17-5-million-to-bring-ai-to-holiday-shopping-logistics', 'https://www.bloomberg.com/markets', 'https://www.bloomberg.com/hyperdrive', 'https://www.bloomberg.com/ai-startups-investing', 'https://www.bloomberg.com/london/?utm_source=bloomberg-menu&utm_medium=bcom', 'https://www.bloomberg.com/professional/product/trading/?utm_source=bloomberg-menu&utm_medium=bcom', 'https://www.bloomberg.com/equality/society', 'https://www.bloomberg.com/news/articles/2023-12-04/continental-under-pressure-to-find-ev-path-after-stumbles', 'https://www.bloomberg.com/professional/product/data/?utm_source=bloomberg-menu&utm_medium=bcom', 'https://www.bloomberg.com/news/articles/2023-12-04/world-bank-chief-hails-cop28-momentum-as-climate-pledges-mount', 'https://www.bloomberg.com/company/diversity-inclusion/?utm_source=bloomberg-menu&utm_medium=bcom', 'https://www.bloomberg.com/industries/telecom', 'https://www.bloomberg.com/opinion/articles/2023-12-04/-everything-rally-upends-powell-s-hopes-markets-will-do-fed-s-work', 'https://www.bloomberg.com/economics/jobs', 'https://www.bloomberg.com/professional/solution/bloomberg-terminal/?utm_source=bloomberg-menu&utm_medium=bcom', 'https://www.bloomberg.co.jp/', 'https://www.bloomberg.com/pursuits/living', 'https://www.bloomberg.com/crypto/technology', 'https://www.bloomberg.com/markets/etfs', 'https://www.bloomberg.com/news/articles/2023-12-03/bitcoin-hits-40-000-level-for-the-first-time-since-may-2022', 'https://www.bloomberg.com/news/articles/2023-12-01/openai-delays-launch-of-online-store-for-chatbots-after-altman-saga', 'https://www.bloombergmedia.com/?utm_source=bloomberg-menu&utm_medium=bcom', 'https://www.bloomberg.com/news/articles/2023-12-04/spirits-and-wine-gift-guide-20-ways-to-make-holidays-a-lot-more-merry', 'https://www.bloomberg.com/businessweek/?utm_source=bloomberg-menu&utm_medium=bcom', 'https://www.bloomberg.com/portal/subscription?in_source=navi', 'https://www.bloomberg.com/industries/health', 'https://www.bloomberg.com/politics/?utm_source=bloomberg-menu&utm_medium=bcom', 'https://www.bloomberg.com/ai', 'https://www.bloomberg.com/news/articles/2023-12-01/microsoft-is-happy-being-the-co-pilot-on-the-openai-rocket-ship', 'https://www.bloomberg.com/markets/currencies', 'https://www.bloomberg.com/crypto/regulation', 'https://www.bloomberg.com/news/articles/2023-12-04/boe-official-says-uk-can-punch-above-its-weight-with-trade-deal', 'https://www.bloomberg.com/news/articles/2023-11-22/undefined', 'https://www.bloomberg.com/company/sustainability/?utm_source=bloomberg-menu&utm_medium=bcom', 'https://www.bloomberg.com/news/articles/2023-12-03/tsmc-intel-s-key-chip-materials-maker-goes-into-debt-rather-than-raise-prices', 'https://www.bloomberg.com/opinion/?utm_source=bloomberg-menu&utm_medium=bcom', 'https://www.bloomberg.com/help?in_source=help-nav', 'https://www.bloomberg.com/gei?utm_source=bloomberg-menu&utm_medium=bcom', 'https://www.bloomberg.com/pursuits/travel', 'https://www.bloomberg.com/crypto', 'https://www.bloomberg.com/crypto/defi', 'https://www.bloomberg.com/markets/rates-bonds', 'https://www.bloomberg.com/news/articles/2023-12-02/us-mba-applications-fall-putting-pressure-on-b-school-deans', 'https://bloomberg.com/green/esg-investing', 'https://www.bloomberg.com/subscriptions/checkout?id=2c92a0ff6614a664016615ed4f044e03&in_source=article-wall', 'https://www.bloomberg.com/pursuits/?utm_source=bloomberg-menu&utm_medium=bcom', 'https://www.bloomberg.com/alternative-investments', 'https://www.bloomberg.com/technology', 'https://www.bloomberg.com/wealth/investing', 'https://bloomberg.com/green/cleaner-tech', 'https://www.bloomberg.com/citylab/technology', 'https://www.bloomberg.com/professional/support/?utm_source=bloomberg-menu&utm_medium=bcom', 'https://www.bloomberg.com/features/where-to-go-2023-luxury-travel-vacations-hotels-restaurants/', 'https://www.bloomberg.com/opinion-technology-and-ideas', 'https://www.bloomberg.com/industries/legal', 'https://www.bloomberg.com/technology/startups', 'https://bloomberg.com/green/new-energy', 'https://www.bloomberg.com/company/values/tech-at-bloomberg/?utm_source=bloomberg-menu&utm_medium=bcom', 'https://www.bloomberg.com/citylab/design', 'https://www.bloomberg.com/privacy', 'https://www.bloomberg.com/portal/your-content?in_source=navi', 'https://www.bloomberg.com/company/philanthropy/?utm_source=bloomberg-menu&utm_medium=bcom', 'https://www.bloomberg.com/help', 'https://www.bloomberglive.com/?utm_source=bloomberg-menu&utm_medium=bcom', 'https://www.bloomberg.com/features/2022-in-trust-podcast/', 'https://bloomberg.com/green/weather-science', 'https://www.bloomberg.com/graphics/climate-change-data-green/', 'https://www.bloomberg.com/opinion/articles/2023-12-04/openai-s-q-is-alarming-for-a-different-reason', 'https://www.bloomberg.com/ai-ethics-law-policy', 'https://www.bloomberg.com/pursuits/autos', 'https://www.bloomberg.com/news/articles/2023-12-04/gold-price-hits-an-all-time-high-here-s-how-to-invest-buy-the-metal', 'https://www.bloomberg.com/opinion/articles/2023-12-04/private-credit-s-risk-to-the-financial-system-may-be-overstated', 'https://www.bloomberg.com/professional/product/indices/?utm_source=bloomberg-menu&utm_medium=bcom', 'https://www.bloomberg.com/wealth', 'https://www.bloomberg.com/markets/stocks/futures', 'https://www.bloomberg.com/equality/solutions', 'https://www.bloomberg.com/news/articles/2023-12-04/credit-suisse-at1-fallout-widens-in-japan-with-more-lawsuits', 'https://www.bloomberg.com/middleeast', 'https://www.bloomberg.com/latest/uk-markets-today', 'https://www.bloomberg.com/opinion-markets', 'https://www.bloomberg.com/economics/inflation-and-prices', 'https://www.bloomberg.com/technology/?utm_source=bloomberg-menu&utm_medium=bcom', 'https://www.bloomberg.com/markets/fixed-income', 'https://www.bloomberg.com/news/articles/2023-12-04/swiss-inflation-unexpectedly-slows-backing-case-for-snb-pause', 'https://www.bloomberg.com/markets/commodities', 'https://www.bloomberg.com/graphics/property-prices/nyc/', 'https://www.bloomberg.com/citylab/culture', 'https://www.bloomberg.com/tos', 'https://pro.bloomberglaw.com/?utm_source=bloomberg-menu&utm_medium=bcom', 'https://www.bloombergradio.com/?utm_source=bloomberg-menu&utm_medium=bcom', 'https://www.bloomberg.com/qt/live', 'https://www.bloomberg.com/citylab/environment', 'https://www.bloomberg.com/quote/SAF:FP', 'https://www.bloomberg.com/pursuits/culture', 'https://www.bloomberg.com/asia', 'https://www.bloomberg.com/markets/economic-calendar', 'https://www.bloomberg.com/citylab', 'https://www.bloomberg.com/oddlots', 'https://www.bloomberg.com/ai-jobs-economy', 'https://www.bloomberg.com/news/features/2023-11-30/mellon-foundation-s-monuments-project-gets-a-500-million-boost', 'https://www.bloomberg.com/news/articles/2023-12-04/spotify-will-cut-headcount-by-17-to-confront-slower-growth', 'https://www.bloomberg.com/wealth/taxes', 'https://www.bloomberg.com/citylab/government', 'https://www.bloomberg.com/subscriptions?in_source=nav-c_original_white', 'https://www.bloomberg.com/screentime', 'https://www.bloomberg.com/professional/product/risk/?utm_source=bloomberg-menu&utm_medium=bcom', 'https://www.bloomberg.com/ai-stocks-to-watch', 'https://www.bloomberg.com/factor-investing', 'https://www.bloomberg.com/news/articles/2023-12-04/big-take-podcast-the-fight-against-deepfake-pornography', 'https://www.bloomberg.com/news/articles/2023-12-04/panama-canal-bottleneck-prompts-detours-and-could-boost-inflation', 'https://www.bloomberg.com/industries/energy', 'https://about.bnef.com/?utm_source=bloomberg-menu&utm_medium=bcom', 'https://www.bloomberg.com/news/articles/2023-12-04/companies-improve-employee-benefits-expand-bereavement-leave', 'https://www.bloomberg.com/europe-politics', 'https://www.bloomberg.com/news/articles/2023-12-04/commercial-real-estate-s-future-in-era-of-high-interest-rates-and-work-from-home', 'https://www.bloomberg.com/crypto/nft', 'https://about.bgov.com/?utm_source=bloomberg-menu&utm_medium=bcom', 'https://www.bloomberg.com/news/articles/2023-12-04/us-nonprofit-plans-250-million-africa-fund-to-woo-solar-firms', 'https://www.bloomberg.com/small-business-survival', 'https://www.bloomberg.com/news/articles/2023-11-22/meloni-says-italy-vetoed-takeover-by-safran-over-security-risks#that-jump-content--default', 'https://www.bloomberg.com/economics/trade', 'https://www.bloomberg.com/account/newsletters?in_source=navi', 'https://www.bloomberg.com/equality/corporate-leadership', 'https://www.bloomberg.com/industries/finance', 'https://www.amazon.com/Bloomberg-L-P-TV/dp/B00FT7LGPM', 'https://www.bloomberg.com/news/articles/2023-12-04/10-best-travel-stocks-for-shareholder-upgrades-perks', 'https://www.bloomberg.com/equality', 'https://www.bloomberg.com/citylab/housing', 'https://bloomberg.com/green/climate-politics', 'https://www.bloomberg.com/wealth/reinvention', 'https://www.bloomberg.com/authors/ABs1zDAPc9c/flavia-rotondi', 'https://www.bloomberg.com/industries/transportation', 'https://www.bloomberg.com/middle-east-politics', 'https://www.hulu.com/network/bloomberg-television-25a56912-f488-49b1-a50f-a61138270395', 'https://www.bloomberg.com/economics/central-banks', 'https://www.bloomberg.com/wealth/opinion-and-advice', 'https://www.bloomberg.com/equality/capital', 'https://www.bloomberg.com/company/announcements/?utm_source=bloomberg-menu&utm_medium=bcom', 'https://channelstore.roku.com/details/54000/bloomberg', 'https://www.bloomberg.com/opinion-business', 'https://www.bloomberg.com/us-politics', 'https://www.bloomberg.com/markets/?utm_source=bloomberg-menu&utm_medium=bcom', 'https://www.bloomberg.com/live?utm_source=bloomberg-menu&utm_medium=bcom', 'https://www.bloomberg.com/pursuits', 'https://www.bloomberg.com/business-of-sports', 'https://www.bloomberg.com/news/articles/2023-11-22/meloni-says-italy-vetoed-takeover-by-safran-over-security-risks', 'https://www.bloomberg.com/markets/markets-magazine', 'https://www.bloomberg.com/technology/big-tech', 'https://www.bloomberg.com/deals', 'https://www.bloomberg.com/professional/downloads/?utm_source=bloomberg-menu&utm_medium=bcom', 'https://www.bloomberg.com/', 'https://www.bloomberg.com/economics/tax-and-spend', 'https://www.bloomberg.com/technology/cybersecurity', 'https://service.bloomberg.com/portal/sessions/new?utm_source=bloomberg-menu&utm_medium=bcom', 'https://www.bloomberg.com/politics', 'https://www.bloomberg.com/audio', 'https://www.bloomberg.com/opinion-finance', 'https://bloomberg.com/green/greener-living', 'https://www.bloomberg.com/industries/real-estate', 'https://www.bloomberg.com/citylab/transportation', 'https://www.bloomberg.com/features/how-to-invest-10k-2023-q1/', 'https://www.bloomberg.com/trademarks', 'https://www.bloomberg.com/good-business', 'https://www.bloomberg.com/company/what-we-do/?utm_source=bloomberg-menu&utm_medium=bcom', 'https://www.bloomberg.com/distribution?utm_source=bloomberg-menu&utm_medium=bcom', 'https://www.bloomberg.com/markets/watchlist', 'https://www.bloomberg.com/portal/billing?in_source=navi', 'https://www.bloomberg.com/letters', 'https://www.bloomberg.com/privacy#advertisements', 'https://www.bloomberg.com/industries/consumer']\n",
      "len of filter sublink : 225\n",
      "URL for news ------------------>>>>>>>  https://www.ncsc.gov.uk/news/uk-develops-new-global-guidelines-ai-security\n"
     ]
    },
    {
     "name": "stdout",
     "output_type": "stream",
     "text": [
      "sublink list : 76\n",
      "extension name :  ['.it', '.eu', '.gov', '.org']\n",
      "length >>> 1\n",
      "c_ex>>>>> ['.it']\n",
      "sublinks after filter >>>>>>>>>>>>>>>  ['https://www.ncsc.gov.uk/section/about-ncsc/incident-management', 'https://www.ncsc.gov.uk/section/information-for/cyber-security-professionals', 'https://www.threads.net/@cyberhq', 'https://www.ncsc.gov.uk/section/about-this-website/accessibility', 'https://www.ncsc.gov.uk/section/education-skills/schools', 'https://www.ncsc.gov.uk/collection/phishing-scams', 'https://www.ncsc.gov.uk/section/about-ncsc/equality-diversity-inclusion', 'https://www.ncsc.gov.uk/section/keep-up-to-date/ncsc-news', 'https://www.ncsc.gov.uk/guidance/how-to-spot-scammers-claiming-to-be-from-the-ncsc', 'https://www.ncsc.gov.uk/section/about-ncsc/what-is-cyber-security', 'https://www.ncsc.gov.uk/section/education-skills/higher-education', 'https://www.ncsc.gov.uk/blog-post/exercise-caution-building-off-llms', 'https://www.ncsc.gov.uk/section/keep-up-to-date/reports-advisories', 'https://report.ncsc.gov.uk/', 'https://www.ncsc.gov.uk/news/uk-develops-new-global-guidelines-ai-security', 'https://www.ncsc.gov.uk/section/information-for/large-organisations', 'https://www.ncsc.gov.uk/cyberfirst/overview', 'https://www.ncsc.gov.uk/section/about-this-website/general-enquiries', 'https://www.ncsc.gov.uk/section/active-cyber-defence/introduction', 'https://www.ncsc.gov.uk/section/advice-guidance/all-topics?allTopics=true&topics=cyber%20essentials&sort=date%2Bdesc', 'https://www.ncsc.gov.uk/section/keep-up-to-date/cyberuk', 'https://www.ncsc.gov.uk/news/uk-develops-new-global-guidelines-ai-security#main', 'https://www.ncsc.gov.uk/collection/guidelines-secure-ai-system-development', 'https://www.ncsc.gov.uk/section/keep-up-to-date/all-speeches', 'https://www.ncsc.gov.uk/section/advice-guidance/all-topics?allTopics=true&topics=passwords&sort=date%2Bdesc', 'https://www.ncsc.gov.uk/information/rss-feeds', 'https://www.ncsc.gov.uk/section/products-services/verify-suppliers', 'https://www.ncsc.gov.uk/pdfs/news/uk-develops-new-global-guidelines-ai-security.pdf', 'https://www.ncsc.gov.uk/section/about-this-website/privacy-statement', 'https://www.ncsc.gov.uk/search?q=', 'https://www.ncsc.gov.uk/section/keep-up-to-date/ncsc-blog', 'https://www.ncsc.gov.uk/search?q=CYBERUK', 'https://www.ncsc.gov.uk/section/about-ncsc/what-we-do', 'https://www.ncsc.gov.uk/section/education-skills/cybok', 'https://www.ncsc.gov.uk/section/products-services/overview', 'https://www.ncsc.gov.uk/cyberessentials/overview', 'https://www.ncsc.gov.uk/section/about-this-website/terms-and-conditions', 'https://www.gchq.gov.uk/', 'https://www.ncsc.gov.uk/', 'https://www.ncsc.gov.uk/section/education-skills/research-and-academia', 'https://www.ncsc.gov.uk/section/advice-guidance/all-topics', 'https://www.npsa.gov.uk/', 'https://www.ncsc.gov.uk/section/about-this-website/cookie-policy', 'https://www.ncsc.gov.uk/section/advice-guidance/all-topics?allTopics=true&topics=ransomware&sort=date%2Bdesc', 'https://www.ncsc.gov.uk/section/information-for/individuals-families', 'https://www.ncsc.gov.uk/section/advice-guidance/all-topics?topics=Artificial%20intelligence', 'https://www.ncsc.gov.uk/section/about-ncsc/ncsc-leadership', 'https://www.mi5.gov.uk/', 'https://www.ncsc.gov.uk/section/advice-guidance/all-articles', 'https://www.ncsc.gov.uk/section/about-this-website/social-media-policy', 'https://www.ncsc.gov.uk/speech/lindy-cameron-cyber-2023-chatham-house', 'https://www.ncsc.gov.uk/section/education-skills/working-with-the-ncsc', 'https://www.ncsc.gov.uk/section/products-services/introduction', 'https://www.ncsc.gov.uk/register/subscribe', 'https://www.ncsc.gov.uk/cyberaware/home', 'https://www.ncsc.gov.uk/cisp/home', 'https://www.ncsc.gov.uk/section/information-for/small-medium-sized-organisations', 'https://www.ncsc.gov.uk/section/products-services/evaluation-partners', 'https://www.sis.gov.uk/', 'https://www.gov.uk/', 'https://www.ncsc.gov.uk/information/vulnerability-reporting', 'https://www.ncsc.gov.uk/search?q=Cyber%20Aware', 'https://www.ncsc.gov.uk/section/about-this-website/cookies', 'https://www.ncsc.gov.uk/section/about-ncsc/careers', 'https://www.ncsc.gov.uk/section/information-for/public-sector', 'https://www.ncsc.gov.uk/section/advice-guidance/all-topics?allTopics=true&topics=phishing&sort=date%2Bdesc', 'https://www.ncsc.gov.uk/section/information-for/self-employed-sole-traders', 'https://www.ncsc.gov.uk/section/education-skills/professional-skills-training', 'https://www.ncsc.gov.uk/section/products-services/all-products-services-categories', 'https://www.ncsc.gov.uk/section/products-services/ncsc-certification', 'https://www.ncsc.gov.uk/blog-post/introducing-guidelines-secure-ai-system-development', 'https://www.ncsc.gov.uk/section/about-ncsc/media-centre']\n",
      "len of filter sublink : 72\n",
      "URL for news ------------------>>>>>>>  https://www.cshub.com/attacks/articles/biggest-cyber-security-attacks-october\n",
      "sublink list : 108\n",
      "extension name :  ['.it', '.eu', '.gov', '.org']\n",
      "length >>> 1\n",
      "c_ex>>>>> ['.it']\n",
      "sublinks after filter >>>>>>>>>>>>>>>  ['https://www.cshub.com/attacks/articles/the-top-10-apac-data-breaches', 'https://www.cshub.com/about-us', 'https://www.cshub.com/malware', 'https://www.cshub.com/attacks/articles/biggest-cyber-security-attacks-october#:~:text=after%20cyber%20attack-,KillNet%20launches%20DDoS%20attack%20against%20UK%20royal%20family,-Russian%20hacktivist%20group', 'https://www.cshub.com/on-demand', 'https://www.cshub.com/media-partners', 'https://www.cshub.com/attacks/articles/the-top-6-cyber-security-incidents-in-july-2023', 'https://www.cshub.com/case-studies', 'https://www.cshub.com/attacks/articles/biggest-cyber-security-attacks-october#Sponsorship', 'https://www.cshub.com/attacks/news/okta-data-breach-affects-all-customer-support-users', 'https://www.cshub.com/attacks/news/ddos-attack-for-hire-services-thriving-on-dark-web-and-cyber-criminal-forums', 'https://www.cshub.com/attacks/news/23andme-hacker-leaks-data', 'https://www.cshub.com/news', 'https://www.cshub.com/demos', 'https://www.cshub.com/cookie-policy', 'https://www.cshub.com/executive-decisions', 'https://www.cshub.com/rss-feeds', 'https://www.cshub.com/attacks/news/blackcataplhv-ransomware-gang-files-sec-complaint-over-victims-undisclosed-breach', 'https://www.cshub.com/events?filter_format=WEB', 'https://www.cshub.com/attacks', 'https://www.cshub.com/attacks/news/iotw-data-breach-exposes-sensitive-information-of-canadian-government-employees', 'https://www.cshub.com/attacks/articles/what-are-ddos-attacks', 'https://www.cshub.com/videos', 'https://www.cshub.com/cloud', 'https://www.cshub.com/attacks/articles/biggest-cyber-security-attacks-october#:~:text=enemies%20of%20Russia.-,British%20Library%20offline%20after%20cyber%20attack,-The%20British%20Library', 'https://www.cshub.com/attacks/articles/chatgpt-and-data-everything-you-need-to-know', 'https://www.cshub.com/threat-defense', 'https://www.cshub.com/attacks/articles/what-is-phishing', 'https://www.onetrust.com/products/cookie-consent/', 'https://www.cshub.com/online-events', 'https://www.cshub.com/mobile', 'https://www.cshub.com/contributor/olivia-powell', 'https://www.cshub.com/attacks/articles/ddos-attacks-are-the-most-impactful-threat-vector-in-apac', 'https://www.cshub.com/attacks/articles/biggest-cyber-security-attacks-october#:~:text=to%20commit%20fraud%E2%80%9D.-,Biggest%20ever%20DDoS%20attacks%20reported%20by%20Google%20Cloud%2C%20Cloudflare%20and%20AWS,-Internet%20infrastructure%20providers', 'https://www.cshub.com/tag/cyber-attack', 'https://www.cshub.com/media-kit', 'https://www.cshub.com/attacks/news/ddos-attacks-czech-ministries-pro-russia-group', 'https://www.cshub.com/attacks/news/record-breaking-ddos-attack', 'https://www.cshub.com/events-generative-ai-cyber-security', 'https://www.cshub.com/attacks/articles/biggest-cyber-security-attacks-october#Events', 'https://www.cshub.com/power10', 'https://www.cshub.com/#', 'https://www.cshub.com/attacks/articles/biggest-cyber-security-attacks-october', 'https://www.cshub.com/become-a-contributor', 'https://www.cshub.com/security-strategy', 'https://www.cshub.com/podcasts', 'https://www.cshub.com/user/register', 'https://www.cshub.com/network', 'https://www.cshub.com/tag/data-breach', 'https://www.cshub.com/attacks/news/air-europa-data-breach', 'https://www.cshub.com/attacks/articles/understanding-and-mitigating-the-security-risks-of-chatbots', 'https://www.cshub.com/attacks/news/ransomware-attack-disrupts-multiple-us-hospital-ers', 'https://www.cshub.com/ws/cs-talks', 'https://www.cshub.com/articles', 'https://www.cshub.com/attacks/news/rhysida-ransomware-group-claims-crippling-british-library-cyber-attack', 'https://www.iqpc.com/cookie-policy', 'https://www.cshub.com/user/password/reset', 'https://www.cshub.com/whitepapers', 'https://www.cshub.com/tag/cyber-security', 'https://www.cshub.com/attacks/news/data-breach-at-us-nuclear-energy-firm-exposes-sensitive-employee-information', 'https://www.cshub.com/attacks/articles/five-cyber-security-success-stories-in-asia-pacific', 'https://www.cshub.com/contributor/cyber-security-hub-editor', 'https://www.cshub.com/attacks/articles/rhysida-ransomware-group-claims-crippling-british-library-cyber-attack', 'https://www.cshub.com/contributor/michael-hill', 'https://www.cshub.com/iot', 'https://www.cshub.com/interviews', 'https://www.cshub.com/attacks/articles/biggest-cyber-security-attacks-october#recommended', 'https://www.cshub.com/reports', 'https://www.cshub.com/contributor/jerome-smail', 'https://www.cshub.com/malware/news/spyware-natural-disaster-alert', 'https://www.cshub.com/attacks/articles/biggest-cyber-security-attacks-october#:~:text=are%20the%20perpetrators.-,Millions%20of%20user%20records%20stolen%20in%2023andMe%20data%20breach,-On%20October%206', 'https://www.cshub.com/attacks/articles/biggest-cyber-security-attacks-october#About', 'https://www.cshub.com/attacks/articles/iotw-mclaren-health-care-data-breach-impacts-22-million-people', 'https://www.cshub.com/attacks/articles/iotw-us-federal-agencies-hit-with-moveit-cyber-attack', 'https://www.cshub.com/attacks/articles/why-do-hackers-target-cryptocurrencies', 'https://www.cshub.com/attacks/articles/biggest-cyber-security-attacks-october#Content', 'https://www.cshub.com/contributors', 'https://careers-iqpc.com/', 'https://www.cshub.com/advertise-with-us', 'https://www.cshub.com/become-a-member-today', 'https://www.cshub.com/attacks/news/lockbit-ransomware-affiliates-actively-exploiting-citrix-bleed-vulnerability', 'https://www.cshub.com/attacks/articles/biggest-cyber-security-attacks-october#', 'https://www.cshub.com/attacks/news/play-ransomware-being-sold-as-a-service', 'https://www.cshub.com/data', 'https://www.iqpc.com/', 'https://www.cshub.com/attacks/news/cyber-attack-forces-toyota-financial-services-systems-offline', 'https://www.iqpc.com/privacy-policy', 'https://www.cshub.com/attacks/articles/biggest-cyber-security-attacks-october#:~:text=roughly%2020%2C000%20machines%E2%80%9D.-,Malware%20spread%20via%20fake%20volcano%20alerts%20in%20Italy,-On%20October%2016', 'https://www.cshub.com/attacks/articles/the-top-five-cyber-security-incidents-in-june-2023', 'https://www.cshub.com/meet-the-team', 'https://blogs.bl.uk/living-knowledge/2023/11/cyber-incident.html', 'https://www.cshub.com/attacks/news/killnet-launches-ddos-attack-against-uk-royal-family', 'https://www.cshub.com/user-agreement', 'https://www.cshub.com/events?filter_format=EXCH', 'https://www.cshub.com/attacks/articles/the-biggest-cyber-security-attacks-in-november', 'https://www.cshub.com/events?filter_format=CONF', 'https://www.cshub.com/contributor/alex-vakulov', 'https://www.cshub.com/', 'https://www.cshub.com/advisory-board', 'https://www.cshub.com/attacks/articles/biggest-cyber-security-attacks-october#:~:text=media%2C%20for%20example.-,Pro%2DRussian%20hackers%20disrupt%20Czech%20government%20websites,-Czech%20government%20websites']\n",
      "len of filter sublink : 100\n",
      "URL for news ------------------>>>>>>>  https://www.commercialriskonline.com/italian-supervisor-focuses-on-cyber-awareness-among-smes-and-individuals/\n"
     ]
    },
    {
     "name": "stdout",
     "output_type": "stream",
     "text": [
      "sublink list : 170\n",
      "extension name :  ['.it', '.eu', '.gov', '.org']\n",
      "length >>> 1\n",
      "c_ex>>>>> ['.it']\n",
      "sublinks after filter >>>>>>>>>>>>>>>  ['https://www.commercialriskonline.com/region/north-america/', 'https://www.commercialriskonline.com/advertise/', 'https://www.commercialriskonline.com/local-language/benelux-francais/', 'https://www.commercialriskonline.com/feed/', 'https://www.commercialriskonline.com/global-risk-manager-cat/grm-analysis-and-opinion/zurich/', 'https://www.commercialriskonline.com/risk-specialty/aviation/', 'https://www.commercialriskonline.com/global-risk-manager-cat/grm-analysis-and-opinion/grm-clyde-co/', 'https://www.commercialriskonline.com/risk-specialty/geopolitical/', 'https://www.commercialriskonline.com/global-risk-manager-cat/grm-captives/', 'https://www.commercialriskonline.com/esg-risk-review-cat/esg-insurance-risk-review/', 'https://www.commercialriskonline.com/risk-specialty/pandemic/', 'https://www.commercialriskonline.com/cookie-policy/', 'https://www.commercialriskonline.com/region/europe/en/italy/', 'https://www.commercialriskonline.com/local-language/espana/', 'https://www.commercialriskonline.com/rate-increases-drive-am-bests-stable-outlook-for-global-reinsurers/', 'https://www.commercialriskonline.com/region/africa/east-africa/', 'https://www.commercialriskonline.com/local-language/france-local/', 'https://www.commercialriskonline.com/journals/grm-journal/', 'https://www.commercialriskonline.com/global-risk-manager-cat/grm-analysis-and-opinion/axa-xl/', 'https://www.commercialriskonline.com/region/europe/cre-associations/', 'https://www.commercialriskonline.com/risk-management/training-education/', 'https://www.commercialriskonline.com/enel-confirms-first-onshore-captive-in-italy/', 'https://www.commercialriskonline.com/insurance/insurance-legal-regulation/', 'https://www.commercialriskonline.com/insurance/reinsurance/', 'https://www.commercialriskonline.com/region/europe/cre-legal-regulation/', 'https://www.commercialriskonline.com/about-us/', 'https://www.commercialriskonline.com/risk-specialty/employee-benefits/', 'https://www.commercialriskonline.com/local-language/deutsche/', 'https://www.commercialriskonline.com/privacy-policy/', 'https://www.commercialriskonline.com/publications/risk-frontiers-survey/', 'https://www.commercialriskonline.com/esg-risk-review-cat/', 'https://www.commercialriskonline.com/region/europe/cre-insurance/', 'https://www.commercialriskonline.com/region/europe/en/turkey/', 'https://www.commercialriskonline.com/traditional-insurers-should-collaborate-more-with-captives-report/', 'https://www.commercialriskonline.com/risk-management/risk-management-analysis-and-opinion/', 'https://www.commercialriskonline.com/global-risk-manager-cat/grm-news-and-analysis/', 'https://www.commercialriskonline.com/italian-supervisor-focuses-on-cyber-awareness-among-smes-and-individuals/#', 'https://www.commercialriskonline.com/risk-management/risk-management-legal-regulation/', 'https://www.commercialriskonline.com/publications/', 'https://www.commercialriskonline.com/on-demand/podcasts/', 'https://www.commercialriskonline.com/esg-risk-review-cat/esg-people-moves/', 'https://www.commercialriskonline.com/conferences/', 'https://www.commercialriskonline.com/region/africa/southern-africa/', 'https://www.commercialriskonline.com/global-risk-manager-cat/grm-comment/', 'https://www.commercialriskonline.com/italian-supervisor-focuses-on-cyber-awareness-among-smes-and-individuals/#go-to-tie-body', 'https://www.commercialriskonline.com/global-risk-manager-cat/grm-analysis-and-opinion/grm-aig/', 'https://www.commercialriskonline.com/conferences/upcoming-conferences/', 'https://www.commercialriskonline.com/on-demand/on-demand-partner-content/', 'https://www.commercialriskonline.com/partner-publications/', 'https://www.commercialriskonline.com/esg-risk-review-cat/esg-climate-risk/', 'https://www.commercialriskonline.com/risk-specialty/marine/', 'https://www.commercialriskonline.com/esg-risk-review-cat/esg-regulation/', 'https://www.commercialriskonline.com/global-risk-manager-cat/grm-insurance/', 'fb-messenger://share?app_id=5303202981&display=popup&link=https://www.commercialriskonline.com/italian-supervisor-focuses-on-cyber-awareness-among-smes-and-individuals/&redirect_uri=https://www.commercialriskonline.com/italian-supervisor-focuses-on-cyber-awareness-among-smes-and-individuals/', 'https://www.commercialriskonline.com/risk-specialty/energy/', 'https://www.commercialriskonline.com/on-demand/interviews/', 'https://www.commercialriskonline.com/analysis-and-opinion/', 'https://www.commercialriskonline.com/region/africa/central-africa/', 'https://www.commercialriskonline.com/grm-journal/', 'https://www.commercialriskonline.com/subscribe', 'https://www.commercialriskonline.com/on-demand', 'https://www.commercialriskonline.com/cr-europe/', 'https://www.commercialriskonline.com/cr-europe', 'https://www.commercialriskonline.com/local-language/italiano/', 'https://www.commercialriskonline.com/region/asia/', 'https://www.commercialriskonline.com/risk-specialty/climate-change/', 'https://www.commercialriskonline.com/journals/grm-journal-archive/', 'https://www.commercialriskonline.com/region/europe/en/uk-ireland/', 'https://reddit.com/submit?url=https://www.commercialriskonline.com/italian-supervisor-focuses-on-cyber-awareness-among-smes-and-individuals/&title=Italian%20supervisor%20focuses%20on%20cyber%20awareness%20among%20SMEs%20and%20individuals', 'https://www.commercialriskonline.com/global-risk-manager-cat/grm-legal-regulation/', 'https://www.commercialriskonline.com/risk-management/risk-management-people-moves/', 'https://www.commercialriskonline.com/risk-frontier-surveys/', 'https://www.commercialriskonline.com/risk-specialty/', 'https://www.commercialriskonline.com/esg-risk-review/', 'https://www.commercialriskonline.com/risk-specialty/executive-and-d-o/', 'https://www.commercialriskonline.com/markel-appoints-war-and-terrorism-senior-underwriter/', 'https://www.commercialriskonline.com/publications/sirm-2023/', 'https://www.commercialriskonline.com/italian-supervisor-focuses-on-cyber-awareness-among-smes-and-individuals/', 'https://www.commercialriskonline.com/global-risk-manager/', 'https://www.commercialriskonline.com/risk-management/risk-management-association-news/', 'https://www.commercialriskonline.com/on-demand/webinars/', 'https://www.commercialriskonline.com/region/africa/north-africa/', 'https://www.commercialriskonline.com/esg-risk-review-cat/esg-comment-opinion/', 'https://www.commercialriskonline.com/usi-acquires-bok-brokerage/', 'https://www.commercialriskonline.com/global-risk-manager-cat/grm-people-moves/', 'https://www.commercialriskonline.com/insurance/brokers/', 'https://www.commercialriskonline.com/esg-risk-review', 'https://www.commercialriskonline.com/insurance/esg-insurance/', 'https://www.commercialriskonline.com/region/europe/en/germany-austria/', 'https://www.commercialriskonline.com/insurance/', 'https://www.commercialriskonline.com/insurance/insurance-people-moves/', 'https://www.commercialriskonline.com/risk-specialty/bi/', 'https://www.commercialriskonline.com/risk-management/risk-management-news/', 'https://www.commercialriskonline.com/region/middle-east/', 'https://www.commercialriskonline.com/local-language/nederland/', 'https://www.commercialriskonline.com/risk-specialty/terrorism/', 'https://www.commercialriskonline.com/publications/newspapers/', 'https://www.commercialriskonline.com/risk-specialty/emerging-risks/', 'https://www.commercialriskonline.com/global-risk-manager-cat/', 'https://www.commercialriskonline.com/on-demand/conferences-on-demand/', 'https://www.commercialriskonline.com/', 'https://www.commercialriskonline.com/risk-specialty/liability/', 'https://www.commercialriskonline.com/region/europe/', 'https://www.commercialriskonline.com/ec-probes-car-battery-cartel/', 'https://www.commercialriskonline.com/local-language-news/', 'https://www.commercialriskonline.com/insurance/insurance-analysis-and-opinion/', 'https://www.commercialriskonline.com/cfc-top-officers-to-step-down-following-lloyds-investigation/', 'https://www.commercialriskonline.com/risk-specialty/property/', 'https://www.commercialriskonline.com/risk-management/risk-management-captives/', 'mailto:?subject=Italian%20supervisor%20focuses%20on%20cyber%20awareness%20among%20SMEs%20and%20individuals&body=https://www.commercialriskonline.com/italian-supervisor-focuses-on-cyber-awareness-among-smes-and-individuals/', 'https://www.commercialriskonline.com/global-risk-manager-cat/grm-analysis-and-opinion/', 'https://www.commercialriskonline.com/local-language/norden/', 'https://www.commercialriskonline.com/esg-risk-review-cat/esg-other-news/', 'https://www.commercialriskonline.com/region/europe/en/nordics/', 'https://www.commercialriskonline.com/esg-risk-review-cat/esg-analysis/', 'https://www.commercialriskonline.com/risk-specialty/cyber-and-technology/', 'https://www.commercialriskonline.com/region/europe/en/spain-portugal/', 'https://www.commercialriskonline.com/publications/special-reports/', 'https://www.commercialriskonline.com/conferences/past-conferences/', 'https://www.commercialriskonline.com/risk-specialty/trade-credit/', 'https://www.commercialriskonline.com/esg-risk-review-cat/esg-partner-content/zurich-esg-partner-content/', 'https://www.commercialriskonline.com/journals/', 'https://www.commercialriskonline.com/state-national-to-enter-uk-market-to-serve-mgas/', 'https://www.commercialriskonline.com/on-demand/', 'https://www.commercialriskonline.com/global-risk-manager-cat/grm-tax-compliance/', 'https://www.commercialriskonline.com/awards-2020/', 'https://www.commercialriskonline.com/our-team/', 'https://www.commercialriskonline.com/region/europe/cre-risk-management/', 'https://www.commercialriskonline.com/esg-risk-review-cat/esg-litigation/', 'https://www.commercialriskonline.com/risk-management/esg/', 'https://www.commercialriskonline.com/region/latin-america/', 'https://www.commercialriskonline.com/region/africa/west-africa/', 'https://www.commercialriskonline.com/cre-journal/', 'https://www.commercialriskonline.com/risk-distribution-europe-2023-survey/', 'https://www.commercialriskonline.com/risk-specialty/supply-chain/', 'https://www.commercialriskonline.com/risk-specialty/ip/', 'https://www.commercialriskonline.com/surveys-and-reports/', 'https://www.commercialriskonline.com/region/europe/en/', 'https://www.commercialriskonline.com/journals/cre-journal-archive/', 'https://www.commercialriskonline.com/risk-management/', 'https://www.commercialriskonline.com/region/europe/en/france/', 'https://www.commercialriskonline.com/region/', 'https://www.commercialriskonline.com/more-sectors-facing-very-high-environmental-credit-risk/', 'https://www.commercialriskonline.com/publications/conference-show-dailies/', 'https://www.commercialriskonline.com/local-language/', 'https://www.commercialriskonline.com/subscribe/', 'https://www.commercialriskonline.com/esg-risk-review-cat/esg-partner-content/', 'https://www.commercialriskonline.com/insurance/market/', 'https://www.commercialriskonline.com/global-risk-manager-cat/grm-analysis-and-opinion/grm-qbe/', 'https://www.commercialriskonline.com/region/africa/', 'https://www.commercialriskonline.com/risk-specialty/construction/', 'https://www.commercialriskonline.com/insurance/ma/', 'https://www.commercialriskonline.com/journals/cre-journal/', 'https://www.commercialriskonline.com/region/europe/en/belgium/', 'https://www.commercialriskonline.com/region/europe/cre-people-moves/', 'https://www.commercialriskonline.com/region/europe/en/poland/', 'https://www.commercialriskonline.com/local-language/schweiz/']\n",
      "len of filter sublink : 157\n",
      "URL for news ------------------>>>>>>>  https://www.itgovernance.co.uk/blog/list-of-data-breaches-and-cyber-attacks-in-2023\n"
     ]
    },
    {
     "name": "stdout",
     "output_type": "stream",
     "text": [
      "sublink list : 118\n",
      "extension name :  ['.it', '.eu', '.gov', '.org']\n",
      "length >>> 1\n",
      "c_ex>>>>> ['.it']\n",
      "sublinks after filter >>>>>>>>>>>>>>>  ['https://www.itgovernance.co.uk/blog/list-of-data-breaches-and-cyber-attacks-july-2023', 'https://www.itgovernance.co.uk/shop/product/gdpr-privacy-notice-template', 'https://www.jdsupra.com/legalnews/nuance-communications-inc-confirms-6094645/', 'https://www.itgovernance.co.uk/blog/list-of-data-breaches-and-cyber-attacks-may-2023', 'https://www.itgovernance.co.uk/blog/category/cyber-security/nis-regulation', 'https://www.resecurity.com/blog/article/pii-belonging-to-indian-citizens-including-their-aadhaar-ids-offered-for-sale-on-the-dark-web', 'https://www.itgovernance.co.uk/blog/list-of-data-breaches-and-cyber-attacks-in-april-2023-4-3-million-records-breached', 'https://www.itgovernance.co.uk/blog/category/sectors', 'https://www.itgovernance.co.uk/security-spotlight-newsletter', 'https://www.itgovernance.co.uk/blog/category/expert-insight', 'https://www.ctm360.com/', 'https://www.itgovernance.co.uk/blog/list-of-data-breaches-and-cyber-attacks-in-2023#january-2023', 'https://www.itgovernance.co.uk/blog/category/cyber-security', 'https://www.itgovernance.co.uk/blog/category/news', 'https://www.itgovernance.co.uk/blog/category/sectors/public-sector', 'https://www.itgovernance.co.uk/blog/category/podcast', 'https://www.itgovernance.co.uk/blog/category/cyber-resilience', 'https://www.itgovernance.co.uk/blog/list-of-data-breaches-and-cyber-attacks-in-2023#march-2023', 'https://www.itgovernance.co.uk/patch-management', 'https://www.itgovernance.co.uk/blog/category/cyber-essentials', 'https://haveibeenpwned.com/', 'https://www.itgovernance.co.uk/blog/list-of-data-breaches-and-cyber-attacks-in-august-2023-79729271-records-breached', 'https://www.itgovernance.co.uk/blog/category/sectors/professional-services', 'https://www.infosecurity-magazine.com/news/sensitive-data-10m-french/', 'https://cybernews.com/privacy/russian-e-commerce-giant-data-leak/', 'https://www.itgovernance.co.uk/blog/list-of-data-breaches-and-cyber-attacks-january-2023', 'https://www.techtarget.com/searchsecurity/news/366553304/Clop-MoveIt-Transfer-attacks-affect-over-2000-organizations', 'https://doublepulsar.com/uk-electoral-commission-had-an-unpatched-microsoft-exchange-server-vulnerability-5436f3f5ec2c', 'https://www.itgovernance.co.uk/blog/category/sectors/financial-services', 'https://www.itgovernance.co.uk/blog/list-of-data-breaches-and-cyber-attacks-in-2023#july-2023', 'https://www.sec.gov/ix?doc=/Archives/edgar/data/1032220/000103222023000061/mms-20230726.htm', 'https://www.itgovernance.co.uk/blog/list-of-data-breaches-and-cyber-attacks-in-march-2023', 'https://www.itgovernance.co.uk/blog/category/staff-awareness', 'https://www.itgovernance.co.uk/blog/category/phishing', 'https://www.emsisoft.com/en/blog/44123/unpacking-the-moveit-breach-statistics-and-analysis/', 'https://www.scmagazine.com/news/breach/t-mobile-security-breach', 'https://www.sec.gov/ix?doc=/Archives/edgar/data/0001283699/000119312523010949/d641142d8k.htm', 'https://www.bleepingcomputer.com/news/security/atandt-alerts-9-million-customers-of-data-breach-after-vendor-hack/', 'https://www.itgovernance.co.uk/blog/list-of-data-breaches-and-cyber-attacks-in-2023#september-2023', 'https://play.google.com/store/apps/datasafety?id=com.tigo.flower&hl=en_US&gl=US', 'https://www.itgovernance.co.uk/blog/category/itil', 'https://www.itgovernance.co.uk/blog/list-of-data-breaches-and-cyber-attacks-in-2023#may-2023', 'https://oag.ca.gov/system/files/Exhibit%20A_6.pdf', 'https://www.bornincident.ca/', 'https://www.itgovernance.co.uk/blog/category/privacy', 'https://www.itgovernance.co.uk/blog/category/cyber-security/business-continuity', 'https://www.itgovernance.co.uk/blog/list-of-data-breaches-and-cyber-attacks-in-2023#april-2023', 'https://www.itgovernance.co.uk/blog/list-of-data-breaches-and-cyber-attacks-june-2023', 'https://www.geo.tv/latest/510830-over-2-million-pakistanis-data-hacked-from-restaurants-database-up-for-sale', 'https://www.washingtonpost.com/technology/2023/01/04/witter-leak-emails-handles/', 'https://www.itgovernance.co.uk/blog/category/ransomware', 'https://www.bbc.co.uk/news/technology-66709556', 'https://www.itgovernance.co.uk/blog/category/sectors/education', 'https://www.itgovernance.co.uk/', 'https://www.itgovernance.co.uk/blog/category/uncategorised', 'https://www.itgovernance.co.uk/blog/category/microsoft-security', 'https://www.itgovernance.co.uk/resources/cyber-security', 'https://www.bleepingcomputer.com/news/security/clop-ransomware-claims-responsibility-for-moveit-extortion-attacks/', 'https://www.shodan.io/', 'https://geekhq.co.nz/', 'https://www.itgovernance.co.uk/consulting', 'https://www.businesswire.com/news/home/20230822094274/en/CareSource-to-provide-impacted-members-with-credit-monitoring-services-following-global-cybersecurity-incident', 'https://www.itgovernance.co.uk/blog/list-of-data-breaches-and-cyber-attacks-in-september-2023-3812187191-breached-records', 'https://www.itgovernance.co.uk/blog/category/penetration-testing', 'https://www.itgovernance.co.uk/blog/list-of-data-breaches-and-cyber-attacks-in-2023#august-2023', 'https://www.itgovernance.co.uk/blog/category/privacy/data-protection', 'https://www.itgovernance.co.uk/blog/wp-content/uploads/2022/04/Drop-Down-450x500-pixels-270x300.png', 'https://www.itgovernance.co.uk/blog/list-of-data-breaches-and-cyber-attacks-in-2023#october-2023', 'https://www.securityweek.com/university-of-minnesota-confirms-data-breach-says-ransomware-not-involved/', 'https://www.itgovernance.co.uk/blog/list-of-data-breaches-and-cyber-attacks-in-2023#june-2023', 'https://www.itgovernance.co.uk/blog/category/privacy/breaches-hacks', 'https://alert.studentclearinghouse.org/', 'https://cybernews.com/security/darkbeam-data-leak/', 'https://www.itgovernance.co.uk/blog/category/catches-of-the-month', 'https://www.itgovernance.co.uk/blog/category/cyber-security/risk-management', 'https://oag.ca.gov/system/files/Exhibit%20B%20-%20Sample%20Individual%20Notification%20Letter.pdf', 'https://content.govdelivery.com/bulletins/gd/ORDOT-36045f9?', 'https://www.itgovernance.co.uk/blog/category/the-week-in-cyber-security-and-data-privacy', 'https://www.itgovernance.co.uk/shop/', 'https://www.itgovernance.co.uk/blog/list-of-data-breaches-and-cyber-attacks-in-2023#february-2023', 'https://www.itgovernance.co.uk/blog/', 'https://www.bleepingcomputer.com/news/security/moveit-breach-impacts-genworth-calpers-as-data-for-32-million-exposed/', 'https://www.itgovernance.co.uk/blog/category/training', 'https://www.itgovernance.co.uk/blog/category/project-management', 'https://www.itgovernance.co.uk/blog/data-breaches-and-cyber-attacks-in-october-2023-867072315-records-breached', 'https://timesofindia.indiatimes.com/india/government-probing-data-breach-of-8-crore-indians-from-icmr-covid-site/articleshow/104835828.cms', 'https://www.itgovernance.co.uk/blog/category/it-best-practice', 'https://www.itgovernance.co.uk/cyber-essentials-scheme', 'https://www.itgovernance.co.uk/blog/category/sectors/retail', 'https://cyberscoop.com/23andme-user-data-theft/', 'https://www.itgovernance.co.uk/blog/category/gdpr', 'https://haveibeenpwned.com/PwnedWebsites#Tigo', 'https://www.itgovernance.co.uk/blog/category/sectors/healthcare', 'https://propakistani.pk/2023/09/22/restaurant-app-indolj-denies-data-breach-after-hackers-share-allegedly-stolen-but-old-data/', 'https://www.itgovernance.co.uk/blog/category/iso27001', 'https://www.itgovernance.co.uk/blog/category/pci-dss', 'https://www.itgovernance.co.uk/blog/author/nford', 'https://www.itgovernance.co.uk/shop/product/phishing-staff-awareness-training-programme', 'https://www.itgovernance.co.uk/blog/list-of-data-breaches-and-cyber-attacks-in-2023', 'https://www.cpomagazine.com/cyber-security/34-million-indonesian-passports-exposed-in-a-massive-immigration-directorate-data-breach/', 'https://www.itgovernance.co.uk/shop/product/emergency-cyber-incident-response-service', 'https://www.websiteplanet.com/news/redcliffe-breach-report/', 'https://www.electoralcommission.org.uk/privacy-policy/public-notification-cyber-attack-electoral-commission-systems', 'https://www.itgovernance.co.uk/about', 'https://www.itgovernance.co.uk/blog', 'https://www.itgovernance.co.uk/blog/list-of-data-breaches-and-cyber-attacks-in-2023#top-data-breach-stats', 'https://www.itgovernance.co.uk/5-years-gdpr', 'https://www.itgovernance.co.uk/training', 'https://www.itgovernance.co.uk/blog/category/monthly-data-breaches-and-cyber-attacks', 'https://www.itgovernance.co.uk/blog/list-of-data-breaches-and-cyber-attacks-in-february-2023-29-5-million-records-breached', 'https://www.documentcloud.org/documents/23793945-t-mobile-consumer-sample-february-march-data-breach', 'https://www.itgovernance.co.uk/blog/category/dora', 'https://www.itgovernance.co.uk/blog/list-of-data-breaches-and-cyber-attacks-in-2023#']\n",
      "len of filter sublink : 113\n",
      "URL for news ------------------>>>>>>>  https://www.iospress.com/catalog/journals/journal-of-computer-security\n"
     ]
    },
    {
     "name": "stdout",
     "output_type": "stream",
     "text": [
      "sublink list : 99\n",
      "extension name :  ['.it', '.eu', '.gov', '.org']\n",
      "length >>> 1\n",
      "c_ex>>>>> ['.it']\n",
      "sublinks after filter >>>>>>>>>>>>>>>  ['https://www.iospress.com/publish-with-us', 'https://content.iospress.com/articles/journal-of-computer-security/jcs230001', 'https://www.iospress.com/api/ads/click/5?key=oqA16dbxSITfs4JnpwlX2oTHYsM', 'https://www.iospress.com/catalog/journals/journal-of-computer-security#aims-scope', 'https://www.iospress.com/catalog/journals/journal-of-computer-security#editorial-board', 'https://www.iospress.com/sustainability#diversity', 'https://www.iospress.com/authorship-policy', 'https://www.iospress.com/catalog/books/fuzzy-systems-and-data-mining-ix', 'https://www.iospress.com/policies', 'https://www.iospress.com/subjects/information-sciences', 'https://www.iospress.com/initiatives#labs', 'https://www.iospress.com/catalog/journals/journal-of-computer-security#abstractedindexed-in', 'https://creativecommons.org/licenses/by-nc/4.0/', 'https://www.iospress.com/sustainable-development-goals', 'https://www.iospress.com/core-values', 'https://www.iospress.com/catalog/books/advances-in-artificial-intelligence-big-data-and-algorithms', 'https://www.iospress.com/catalog/journals/journal-of-computer-security#peer-review', 'https://www.iospress.com/products#ldconnect', 'https://www.iospress.com/authors', 'https://www.iospress.com/catalog/journals/journal-of-computer-security#open-access', 'https://www.iospress.com/catalog/journals/journal-of-computer-security#author-guidelines', 'https://content.iospress.com/articles/journal-of-computer-security/jcs220129', 'https://www.iospress.com/open-access-institutional-agreements', 'https://www.iospress.com/reviewer-guidelines', 'https://www.iospress.nl/wp-content/uploads/2017/11/authorandeditortoolkit.pdf', 'https://www.iospress.com/journal-pricing?id=25652#0926-227X', 'https://www.iospress.com/sitemap', 'https://www.iospress.com/research-and-development', 'https://content.iospress.com/articles/journal-of-computer-security/jcs220130', 'https://www.iospress.com/subjects/computer-sciences-mathematics-statistics', 'https://www.iospress.com/catalog/journals', 'https://www.editorialmanager.com/j-cs/default.aspx', 'https://www.iospress.com/partnerships', 'https://www.iospress.com/reviewers', 'https://www.iospress.com/news/eleven-ios-press-journals-selected-for-esci', 'https://www.iospress.com/author-copyright-agreement', 'https://www.iospress.com/products-test', 'https://www.iospress.nl/journal-fee-form/?id=61&journal=[ID]', 'https://www.iospress.com/about', 'https://creativecommons.org/licenses/by/4.0/', 'https://www.iospress.com/services', 'https://content.iospress.com/journals/journal-of-computer-security', 'https://uk.sagepub.com/', 'https://www.iospress.com/catalog/journals/journal-of-computer-security#main-content', 'https://www.iospress.nl/service/authors/kudos/', 'https://www.iospress.com/initiatives', 'https://www.iospress.com/news/sage-grows-research-portfolio-by-acquiring-ios-press', 'https://www.iospress.com/librarians', 'https://www.iospress.com/about#companystory', 'https://content.iospress.com/articles/journal-of-computer-security/jcs230960', 'https://www.iospress.com/subjects/computer-security', 'https://www.iospress.com/subjects/computer-sciences', 'https://www.iospress.com/', 'https://www.iospress.com/catalog/journals/journal-of-computer-security#extra', 'https://content.iospress.com/articles/journal-of-computer-security/jcs220131', 'https://www.growkudos.com/', 'https://www.iospress.com/catalog', 'https://www.iospress.com/subjects/artificial-intelligence', 'https://www.iospress.com/products', 'https://content.iospress.com/journals/journal-of-computer-security/31/6', 'https://www.iospress.com/products#books', 'https://www.iospress.com/memberships', 'https://www.iospress.com/products#journals', 'https://www.iospress.nl/service/authors/authors-discount/', 'https://www.iospress.com/open-science', 'https://www.iospress.com/subjects/management', 'https://www.iospress.com/catalog/journals/journal-of-computer-security#', 'https://www.iospress.com/sustainability', 'https://www.iospress.com/news', 'https://www.iospress.com/catalog/journals/pliu@ist.psu.edu', 'https://www.iospress.com/catalog/books/digitalization-and-management-innovation-ii', 'https://www.iospress.nl/service/authors/open-library-ios-press-open-access-option/', 'https://www.iospress.com/catalog/book-series/frontiers-in-artificial-intelligence-and-applications', 'https://www.iospress.com/disclaimer', 'https://www.iospress.com/frequently-asked-questions', 'https://www.iospress.com/article-sharing-policy', 'https://vtex-soft.github.io/texsupport.iospress-jcs/', 'https://www.iospress.com/privacy-policy', 'https://www.iospress.com/news/journal-of-computer-security-publishes-special-web-at-25-issue', 'https://www.iospress.com/catalog/journals/journal-of-computer-security', 'https://www.iospress.com/subjects/data-science', 'https://www.iospress.com/open-library', 'https://www.iospress.com/recommend-to-your-librarian?id=25652']\n",
      "len of filter sublink : 83\n",
      "URL for news ------------------>>>>>>>  https://www.darkreading.com/application-security\n",
      "sublink list : 132\n",
      "extension name :  ['.it', '.eu', '.gov', '.org']\n",
      "length >>> 1\n",
      "c_ex>>>>> ['.it']\n",
      "sublinks after filter >>>>>>>>>>>>>>>  ['https://www.darkreading.com/application-security/critical-shelltorch-flaws-open-source-ai-google', 'https://www.darkreading.com/author/corey-nachreiner', 'https://www.darkreading.com/cyberattacks-data-breaches/general-electric-darpa-hack-claims-raise-national-security-concerns', 'https://www.darkreading.com/author/dark-reading-staff', 'https://darkreading.tradepub.com/c/pubRD.mpl?secure=1&sr=pp&_t=pp:&qf=w_manf57&ch=sbx&cid=_analytics_7.300005992&_mc=_analytics_7.300005992', 'https://www.darkreading.com/endpoint-security/mobile-security', 'https://www.darkreading.com/application-security/myrror-security-emerges-from-stealth-with-6m-seed-round-to-prevent-attacks-on-the-software-development-process', 'https://www.darkreading.com/application-security/-blazestealer-python-malware-complete-takeover-developer', 'https://www.darkreading.com/program/partner-perspectives-google-cloud', 'https://www.darkreading.com/cybersecurity-operations/physical-security', 'https://www.informationweek.com/whitepaper/cybersecurity/endpoint-security/2021-gartner-market-guide-for-managed-detection-and-response-report/436213?cid=_whitepaper_14.500005021&_mc=_whitepaper_14.500005021', 'https://www.darkreading.com/author/john-klossner', 'https://www.darkreading.com/resources', 'https://www.darkreading.com/keyword/middle-east-africa', 'https://info.wrightsmedia.com/informa-licensing-reprints-request', 'https://www.informa.com/privacy-policy/canada-appendix/', 'https://www.darkreading.com/cloud-security', 'https://www.darkreading.com/application-security?page=2', 'https://www.darkreading.com/application-security/new-malwarebytes-survey-consumers-lack-trust-in-new-tech', 'https://www.darkreading.com/application-security/1kosmos-unifies-identity-verification-user-journeys-across-web-and-mobile-platforms', 'https://www.darkreading.com/advertise', 'https://www.darkreading.com/application-security/name-that-toon-slam-dunk', 'https://www.darkreading.com/vulnerabilities-threats/insider-threats', 'https://www.darkreading.com/author/jai-vijayan', 'https://www.darkreading.com/application-security/proofpoint-signs-definitive-agreement-to-acquire-tessian', 'https://www.darkreading.com/cyberattacks-data-breaches', 'https://www.blackhat.com/eu-23/?cid=_session_16.500306&_mc=_session_16.500306', 'https://www.darkreading.com/application-security/cisco-zero-day-bug-patches-in-days', 'https://www.darkreading.com/application-security/software-complexity-bedevils-mainframe-security', 'https://darkreading.tradepub.com/c/pubRD.mpl?secure=1&sr=pp&_t=pp:&qf=w_mend19&ch=sbx&cid=_analytics_7.300005998&_mc=_analytics_7.300005998', 'https://darkreading.tradepub.com/c/pubRD.mpl?secure=1&sr=pp&_t=pp:&qf=w_forq239&ch=sbx&cid=_analytics_7.300005997&_mc=_analytics_7.300005997', 'https://www.darkreading.com/threat-intelligence', 'https://www.darkreading.com/resources?types=Report', 'https://www.darkreading.com/application-security/cycode-introduces-complete-approach-to-application-security-posture-management-aspm-', 'https://www.darkreading.com/application-security/harmor-cleans-sanitizes-encrypts-har-files', 'https://www.darkreading.com/application-security/malware-uses-trigonometry-to-track-mouse-strokes', 'https://www.onetrust.com/products/cookie-consent/', 'https://www.darkreading.com/application-security/dangerous-apache-activemq-exploit-allows-stealthy-edr-bypass', 'https://www.informa.com/talent/', 'https://darkreading.tradepub.com/c/pubRD.mpl?secure=1&sr=pp&_t=pp:&qf=w_defa4082&ch=sbx&cid=_whitepaper_14.500005383&_mc=_whitepaper_14.500005383', 'https://www.darkreading.com/program/partner-perspectives-microsoft', 'https://www.darkreading.com/cybersecurity-operations/identity-access-management-security', 'https://www.darkreading.com/endpoint-security/10-holiday-gifts-for-stressed-out-security-pros', 'https://www.darkreading.com/author/kristinabeek', 'https://www.darkreading.com/program/the-edge', 'https://www.darkreading.com/author/michael-bargury', 'https://www.darkreading.com/ics-ot-security/iot', 'https://www.darkreading.com/program/dr-global', 'https://www.darkreading.com/application-security/kiteworks-maytech-acquisition-reaffirms-commitment-to-uk-market', 'https://www.darkreading.com/videos', 'https://www.informa.com/', 'https://www.informationweek.com/whitepaper/security-management-and-analytics/cybersecurity/modernize-your-security-operations-with-human-machine-intelligence/438993?cid=_whitepaper_14.500005079&_mc=_whitepaper_14.500005079', 'https://www.informa.com/investors/', 'https://www.darkreading.com/application-security/critical-zero-day-atlassian-confluence-active-exploit', 'https://www.darkreading.com/cyberattacks-data-breaches/iranian-linked-cyber-group-targets-pennsylvania-water-authority', 'https://www.darkreading.com/cyberattacks-data-breaches/6-years-of-silence-former-uber-ciso-speaks-out-on-data-breach-solarwinds', 'https://www.darkreading.com/cyber-risk', 'https://www.darkreading.com/application-security/do-small-companies-need-fractional-appsec-teams-much-like-vcisos-', 'https://www.darkreading.com/author/fahmida-y-rashid', 'https://dr-resources.darkreading.com/free/w_defa3135/prgm.cgi', 'https://www.darkreading.com/author/nathan-eddy', 'https://www.darkreading.com/application-security/norton-boosts-security-and-privacy-with-enhanced-password-manager-and-antitrack', 'https://www.darkreading.com/author/jeffrey-schwartz', 'https://www.darkreading.com/keyword/partner-perspectives', 'https://www.darkreading.com/application-security/cyber-monday-kicks-off-holiday-shopping-season-with-e-commerce-security-risks', 'https://www.darkreading.com/resources?types=Whitepaper', 'https://www.darkreading.com/author/robert-lemos', 'https://www.darkreading.com/author/becky-bracken', 'https://www.darkreading.com/program/omdia-cybersecurity', 'https://www.darkreading.com/vulnerabilities-threats', 'https://www.darkreading.com/application-security?page=4', 'https://www.darkreading.com/application-security/altr-closes-25m-series-c-financing', 'https://www.darkreading.com/program/dr-technology', 'https://www.darkreading.com/', 'https://www.darkreading.com/author/kelly-jackson-higgins-2', 'https://www.darkreading.com/ics-ot-security', 'https://www.darkreading.com/application-security/the-most-popular-it-admin-password-is-totally-depressing', 'https://www.darkreading.com/slideshows', 'https://www.darkreading.com/endpoint-security', 'https://www.darkreading.com/application-security/otka-breach-widens-entire-customer-base', 'https://www.darkreading.com/application-security/randstorm-bug-millions-of-crypto-wallets-open-to-theft', 'https://www.darkreading.com/application-security/more-okta-customers-hacked-through-support-service', 'https://www.darkreading.com/cybersecurity-operations', 'https://www.darkreading.com/cybersecurity-operations/cybersecurity-careers', 'https://www.darkreading.com/author/jiantao-jiao', 'https://www.darkreading.com/events', 'https://www.darkreading.com/application-security/lasso-security-emerges-from-stealth-with-6m-seed-funding-for-gen-ai-and-advanced-llm-cybersecurity', 'https://ve.informaengage.com/virtual-events/cybersecurity-outlook-2024/?ch=sbx&cid=_session_16.500311&_mc=_session_16.500311', 'https://www.darkreading.com/resources?types=Webinar', 'https://www.informatech.com/terms-and-conditions/', 'https://www.informa.com/about-us/', 'https://www.darkreading.com/cybersecurity-analytics', 'https://www.darkreading.com/program/black-hat', 'https://www.darkreading.com/application-security/genai-requires-new-intelligent-defenses', 'https://www.darkreading.com/cybersecurity-operations/dark-reading-debuts-fresh-new-site-design', 'https://www.darkreading.com/application-security/security-must-empower-ai-developers-now', 'https://www.darkreading.com/vulnerabilities-threats/researchers-discover-trio-of-critical-vulns-in-ray-open-source-framework-for-scaling-ai-ml-workloads', 'https://www.darkreading.com/author/banghua-zhu', 'https://www.darkreading.com/application-security?page=72', 'https://www.darkreading.com/application-security/getting-smart-with-cybersecurity-ai-can-help-the-good-guys-too', 'https://www.darkreading.com/author/tara-seals', 'https://www.darkreading.com/cyber-risk/data-privacy', 'https://www.darkreading.com/application-security?page=3', 'https://www.darkreading.com/cybersecurity-operations/perimeter', 'https://darkreading.tradepub.com/c/pubRD.mpl?secure=1&sr=pp&_t=pp:&qf=w_defa4083&ch=sbx&cid=_whitepaper_14.500005384&_mc=_whitepaper_14.500005384', 'https://www.darkreading.com/application-security', 'https://www.informatech.com/', 'https://www.darkreading.com/endpoint-security/remote-workforce', 'https://www.darkreading.com/application-security/forallsecure-announces-first-dynamic-software-bill-of-materials-for-application-security', 'https://www.darkreading.com/cookie-policy', 'https://news.google.com/publications/CAAqBwgKMKmknwswtq63Aw?ceid=US:en&oc=3&hl=en-US&gl=US', 'https://www.darkreading.com/author/ericka-chickowski', 'https://www.darkreading.com/vulnerabilities-threats/8-tips-on-leveraging-ai-tools-without-compromising-security', 'https://www.darkreading.com/application-security/valve-2fa-mandate-game-developers-sms-stickiness', 'https://www.darkreading.com/rss.xml', 'https://darkreading.tradepub.com/c/pubRD.mpl?secure=1&sr=pp&_t=pp:&qf=w_manf62&ch=sbx&cid=_analytics_7.300005996&_mc=_analytics_7.300005996', 'https://www.blackhat.com/asia-24/?cid=_session_16.500313&_mc=_session_16.500313', 'https://www.darkreading.com/application-security?page=5', 'https://www.darkreading.com/application-security/first-wave-vulnerability-fixing-ai-available-developers', 'https://www.darkreading.com/author/nate-nelson', 'https://www.darkreading.com/application-security/fake-airstrike-alert-app-targets-israelis', 'https://darkreading.tradepub.com/c/pubRD.mpl?secure=1&sr=pp&_t=pp:&pc=w_forq211&ch=sbx&cid=_analytics_7.300005988&_mc=_analytics_7.300005988', 'https://www.informationweek.com/whitepaper/cybersecurity/security-platforms/4-ways-xdr-levels-up-security-programs/436363?cid=_whitepaper_14.500005025&_mc=_whitepaper_14.500005025', 'https://www.blackhat.com/tr-24/?cid=_session_16.500312&_mc=_session_16.500312', 'https://www.darkreading.com/about-us', 'https://www.informa.com/privacy-policy/', 'https://www.darkreading.com/application-security/security-pros-warn-that-eu-vulnerability-disclosure-rule-is-risky']\n",
      "len of filter sublink : 127\n",
      "len>>>>>>>> 31\n"
     ]
    }
   ],
   "source": [
    "sublinks=extract_news_sublinks(links)"
   ]
  },
  {
   "cell_type": "code",
   "execution_count": 14,
   "id": "ae8ccf4e",
   "metadata": {
    "scrolled": true
   },
   "outputs": [
    {
     "data": {
      "text/plain": [
       "['https://www.bloomberg.com/news/articles/2023-11-22/meloni-says-italy-vetoed-takeover-by-safran-over-security-risks',\n",
       " 'https://www.ncsc.gov.uk/news/uk-develops-new-global-guidelines-ai-security',\n",
       " 'https://www.cshub.com/attacks/articles/the-top-6-cyber-security-incidents-in-july-2023',\n",
       " 'https://www.cshub.com/attacks/news/ddos-attack-for-hire-services-thriving-on-dark-web-and-cyber-criminal-forums',\n",
       " 'https://www.cshub.com/attacks/news/iotw-data-breach-exposes-sensitive-information-of-canadian-government-employees',\n",
       " 'https://www.cshub.com/attacks/articles/what-are-ddos-attacks',\n",
       " 'https://www.cshub.com/attacks/articles/ddos-attacks-are-the-most-impactful-threat-vector-in-apac',\n",
       " 'https://www.cshub.com/attacks/news/ddos-attacks-czech-ministries-pro-russia-group',\n",
       " 'https://www.cshub.com/attacks/articles/biggest-cyber-security-attacks-october',\n",
       " 'https://www.cshub.com/attacks/articles/understanding-and-mitigating-the-security-risks-of-chatbots',\n",
       " 'https://www.cshub.com/attacks/news/rhysida-ransomware-group-claims-crippling-british-library-cyber-attack',\n",
       " 'https://www.cshub.com/attacks/news/data-breach-at-us-nuclear-energy-firm-exposes-sensitive-employee-information',\n",
       " 'https://www.cshub.com/attacks/articles/five-cyber-security-success-stories-in-asia-pacific',\n",
       " 'https://www.cshub.com/attacks/articles/rhysida-ransomware-group-claims-crippling-british-library-cyber-attack',\n",
       " 'https://www.cshub.com/attacks/articles/iotw-us-federal-agencies-hit-with-moveit-cyber-attack',\n",
       " 'https://www.cshub.com/attacks/news/cyber-attack-forces-toyota-financial-services-systems-offline',\n",
       " 'https://www.cshub.com/attacks/articles/the-top-five-cyber-security-incidents-in-june-2023',\n",
       " 'https://www.cshub.com/attacks/articles/the-biggest-cyber-security-attacks-in-november',\n",
       " 'https://www.itgovernance.co.uk/security-spotlight-newsletter',\n",
       " 'https://www.techtarget.com/searchsecurity/news/366553304/Clop-MoveIt-Transfer-attacks-affect-over-2000-organizations',\n",
       " 'https://www.scmagazine.com/news/breach/t-mobile-security-breach',\n",
       " 'https://www.bleepingcomputer.com/news/security/clop-ransomware-claims-responsibility-for-moveit-extortion-attacks/',\n",
       " 'https://www.businesswire.com/news/home/20230822094274/en/CareSource-to-provide-impacted-members-with-credit-monitoring-services-following-global-cybersecurity-incident',\n",
       " 'https://www.iospress.com/authorship-policy',\n",
       " 'https://www.iospress.com/subjects/information-sciences',\n",
       " 'https://content.iospress.com/journals/journal-of-computer-security',\n",
       " 'https://www.iospress.com/subjects/computer-security',\n",
       " 'https://www.iospress.com/article-sharing-policy',\n",
       " 'https://www.iospress.com/privacy-policy',\n",
       " 'https://www.iospress.com/news/journal-of-computer-security-publishes-special-web-at-25-issue',\n",
       " 'https://www.iospress.com/catalog/journals/journal-of-computer-security']"
      ]
     },
     "execution_count": 14,
     "metadata": {},
     "output_type": "execute_result"
    }
   ],
   "source": [
    "sublinks"
   ]
  },
  {
   "cell_type": "code",
   "execution_count": 6,
   "id": "064fffec",
   "metadata": {},
   "outputs": [],
   "source": [
    "def extract_news_sublinks(links): #,c_ex):\n",
    "    news_links = []\n",
    "    #------------------extract sublinks---------------------------------\n",
    "    for link in links:\n",
    "        print(\"URL for news ------------------>>>>>>> \",link)\n",
    "\n",
    "        options = webdriver.ChromeOptions()\n",
    "        options.add_argument(\"user-agent=Mozilla/5.0 (Windows NT 10.0; WOW64) AppleWebKit/537.36 (KHTML, like Gecko) Chrome/110.0.0.0 Safari/537.36\")\n",
    "        # driver = webdriver.Chrome(chrome_options=options,service=ChromeService(ChromeDriverManager(version=\"114.0.5735.90\").install()))\n",
    "        driver = webdriver.Chrome(service= Service(ChromeDriverManager().install()))\n",
    "        driver.maximize_window()\n",
    "        driver.get(link)\n",
    "        driver.set_page_load_timeout(60)\n",
    "        time.sleep(1)\n",
    "        current_link = driver.current_url\n",
    "\n",
    "        list_=[] \n",
    "        lnk=driver.find_elements(By.XPATH, \"//a[@href]\")\n",
    "        try:\n",
    "            for i in lnk:\n",
    "                list_.append(str(i.get_attribute('href'))) \n",
    "        except:\n",
    "            pass\n",
    "        final_list = [link]+list_\n",
    "#         print('lololol',final_list)\n",
    "        sublink_list = list(set(final_list))\n",
    "        driver.quit()\n",
    "\n",
    "        # print(\"raw_sublink >>> \",sublink_list)\n",
    "        print(\"sublink list :\",len(sublink_list))\n",
    "        filter1_links,c_ex=filter1(sublink_list,'Italy')\n",
    "        Filter_Sublinks = filter_sublinks(filter1_links,c_ex[0])\n",
    "        u_filter_sublinks = filter3(sublink_list)\n",
    "        https_filtersublinks = [sublink for sublink in u_filter_sublinks if 'https://' in sublink.lower()]\n",
    "\n",
    "        print(\"sublinks after filter >>>>>>>>>>>>>>> \",https_filtersublinks)\n",
    "        print(\"len of filter sublink :\",len(https_filtersublinks))\n",
    "\n",
    "        for lnk in https_filtersublinks:\n",
    "            check_data = any(item in lnk for item in url_keyword)\n",
    "            if check_data == True:\n",
    "                news_links.append(lnk)\n",
    "    \n",
    "    nws_lnk = []\n",
    "    for i in news_links:\n",
    "        if i not in nws_lnk:\n",
    "            if '#' in i:\n",
    "                pass\n",
    "            else:\n",
    "                nws_lnk.append(i) \n",
    "    nws_lnk_1 = filter_final_news_links(nws_lnk)\n",
    "    print(\"len>>>>>>>>\",len(nws_lnk_1))\n",
    "    return nws_lnk_1\n",
    "    #-------------------for news inner sub links------------------------------\n",
    "#     for l in nws_lnk_1:\n",
    "#         print(\"URL for news ------------------>>>>>>> \",l)\n",
    "        \n",
    "#         options = webdriver.ChromeOptions()\n",
    "#         options.add_argument(\"--headless\")\n",
    "#         options.add_argument('--ignore-certificate-errors')\n",
    "#         options.add_argument(\"user-agent=Mozilla/5.0 (Windows NT 10.0; WOW64) AppleWebKit/537.36 (KHTML, like Gecko) Chrome/110.0.0.0 Safari/537.36\")\n",
    "#         driver = webdriver.Chrome(options=options,service= Service(ChromeDriverManager().install()))\n",
    "#         driver.minimize_window()\n",
    "#         driver.get(l)\n",
    "#         driver.set_page_load_timeout(60)\n",
    "#         time.sleep(2)\n",
    "#         current_link = driver.current_url       \n",
    "        \n",
    "#         list_=[] \n",
    "#         lnk=driver.find_elements(By.XPATH, \"//a[@href]\")\n",
    "#         try:\n",
    "#             for i in lnk:\n",
    "#                 list_.append(str(i.get_attribute('href'))) \n",
    "#         except:\n",
    "#             pass\n",
    "#         final_list = [l]+list_\n",
    "#         sublink_list = list(set(final_list))\n",
    "#         driver.quit()\n",
    "\n",
    "#         # print(\"raw_sublink >>> \",sublink_list)\n",
    "#         print(\"sublink list :\",len(sublink_list))\n",
    "#         filter1_links,c_ex=filter1(sublink_list,'Italy')\n",
    "#         Filter_Sublinks = filter_sublinks(filter1_links,c_ex[0])\n",
    "#         u_filter_sublinks = filter3(Filter_Sublinks)\n",
    "#         https_filtersublinks = [sublink for sublink in u_filter_sublinks if 'https://' in sublink.lower()]\n",
    "\n",
    "#         print(\"sublinks after filter >>>>>>>>>>>>>>> \",https_filtersublinks)\n",
    "#         print(\"len of filter sublink :\",len(https_filtersublinks))\n",
    "        \n",
    "#         for http_lnk in https_filtersublinks:\n",
    "#             check_data = any(item in http_lnk for item in url_keyword)\n",
    "#             if check_data == True:\n",
    "#                 news_links.append(http_lnk)\n",
    "        \n",
    "#     nws_l = []\n",
    "#     for i in news_links:\n",
    "#         if i not in nws_l:\n",
    "#             if '#' in i:\n",
    "#                 pass\n",
    "#             else:\n",
    "#                 nws_l.append(i)\n",
    "    \n",
    "#     filter_news_sub_link = filter_final_news_links(nws_l)\n",
    "\n",
    "#     return list(set(filter_news_sub_link))\n"
   ]
  },
  {
   "cell_type": "code",
   "execution_count": 8,
   "id": "15e72c9f",
   "metadata": {},
   "outputs": [],
   "source": [
    "data_key = pd.read_excel('Regulator.xlsx',sheet_name='keywords')\n",
    "url_keyword = []\n",
    "for i in data_key['news_url_keywords']:\n",
    "    if str(i) == 'nan':\n",
    "        pass\n",
    "    else:\n",
    "        url_keyword.append(i)"
   ]
  },
  {
   "cell_type": "code",
   "execution_count": null,
   "id": "ae74452c",
   "metadata": {},
   "outputs": [],
   "source": [
    "url_keyword"
   ]
  },
  {
   "cell_type": "code",
   "execution_count": null,
   "id": "379cb4a7",
   "metadata": {},
   "outputs": [],
   "source": [
    "nws"
   ]
  }
 ],
 "metadata": {
  "kernelspec": {
   "display_name": "Python 3 (ipykernel)",
   "language": "python",
   "name": "python3"
  },
  "language_info": {
   "codemirror_mode": {
    "name": "ipython",
    "version": 3
   },
   "file_extension": ".py",
   "mimetype": "text/x-python",
   "name": "python",
   "nbconvert_exporter": "python",
   "pygments_lexer": "ipython3",
   "version": "3.9.16"
  }
 },
 "nbformat": 4,
 "nbformat_minor": 5
}
